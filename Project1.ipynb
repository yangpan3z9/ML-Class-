{
 "cells": [
  {
   "cell_type": "code",
   "execution_count": 1,
   "metadata": {},
   "outputs": [],
   "source": [
    "#project 1\n"
   ]
  },
  {
   "cell_type": "code",
   "execution_count": 2,
   "metadata": {},
   "outputs": [
    {
     "data": {
      "image/png": "[encoded data removed]",
      "text/plain": [
       "<Figure size 432x288 with 1 Axes>"
      ]
     },
     "metadata": {
      "needs_background": "light"
     },
     "output_type": "display_data"
    }
   ],
   "source": [
    "###50 DATA POINTS FOR TRAINING GENERATED HERE\n",
    "import pandas as pd\n",
    "import numpy as np\n",
    "from sklearn.datasets import make_moons\n",
    "from matplotlib import pyplot\n",
    "from pandas import DataFrame\n",
    "# generate 2d classification dataset\n",
    "X, y = make_moons(n_samples=50, noise=0.9)\n",
    "# scatter plot, dots colored by class value\n",
    "df = DataFrame(dict(x=X[:,0], y=X[:,1], label=y))\n",
    "colors = {0:'red', 1:'blue'}\n",
    "fig, ax = pyplot.subplots()\n",
    "grouped = df.groupby('label')\n",
    "for key, group in grouped:\n",
    "    group.plot(ax=ax, kind='scatter', x='x', y='y', label=key, color=colors[key])\n",
    "pyplot.show()"
   ]
  },
  {
   "cell_type": "code",
   "execution_count": 3,
   "metadata": {},
   "outputs": [],
   "source": [
    "#print(X)"
   ]
  },
  {
   "cell_type": "code",
   "execution_count": 4,
   "metadata": {},
   "outputs": [
    {
     "data": {
      "image/png": "[encoded data removed]",
      "text/plain": [
       "<Figure size 432x288 with 1 Axes>"
      ]
     },
     "metadata": {
      "needs_background": "light"
     },
     "output_type": "display_data"
    }
   ],
   "source": [
    "###30 DATA POINTS FOR TESTING\n",
    "X1, y1 = make_moons(n_samples=30, noise=0.9)\n",
    "# scatter plot, dots colored by class value\n",
    "df2 = DataFrame(dict(x=X1[:,0], y=X1[:,1], label=y1))\n",
    "colors2 = {0:'red', 1:'blue'}\n",
    "fig, ax2 = pyplot.subplots()\n",
    "grouped2 = df2.groupby('label')\n",
    "for key1, group in grouped2:\n",
    "    group.plot(ax=ax2, kind='scatter', x='x', y='y', label=key1, color=colors2[key1])\n",
    "pyplot.show()"
   ]
  },
  {
   "cell_type": "code",
   "execution_count": 5,
   "metadata": {},
   "outputs": [
    {
     "name": "stdout",
     "output_type": "stream",
     "text": [
      "     column1   column2\n",
      "0   0.616510 -0.160200\n",
      "1   2.375624  0.927772\n",
      "2  -1.648096 -0.464686\n",
      "3   1.296551  0.017708\n",
      "4  -2.968602  1.829245\n",
      "5  -1.069106 -1.627473\n",
      "6   1.807018  0.080053\n",
      "7  -0.375438 -0.340577\n",
      "8   0.209615 -0.049652\n",
      "9   0.672185  0.577644\n",
      "10 -0.859200  2.038792\n",
      "11 -1.123599  1.644119\n",
      "12  0.697226 -0.104180\n",
      "13  1.202280  1.043618\n",
      "14 -1.797116 -0.546394\n",
      "15  0.031044  1.249440\n",
      "16 -0.382858 -0.244247\n",
      "17 -0.035385  0.941631\n",
      "18 -0.927939  1.696379\n",
      "19  0.080077 -0.026585\n",
      "20  0.898114  0.388712\n",
      "21  0.560813 -1.460663\n",
      "22 -0.002353  0.902814\n",
      "23  1.752637 -0.056632\n",
      "24 -1.684626 -0.010032\n",
      "25  3.513380 -1.150855\n",
      "26  0.529387 -0.299441\n",
      "27  1.570115 -0.452890\n",
      "28 -0.589144  0.536356\n",
      "29  3.008587  1.752881\n",
      "30  0.325254  0.662266\n",
      "31  1.752687 -0.499512\n",
      "32 -0.973013 -0.187396\n",
      "33  0.542157  1.369176\n",
      "34  0.329430  0.403064\n",
      "35  0.350016 -0.476027\n",
      "36 -0.776817 -0.164601\n",
      "37 -0.506710  0.845770\n",
      "38  0.668918  0.030855\n",
      "39  2.373940 -0.142907\n",
      "40  2.540341  1.036125\n",
      "41 -0.885903 -1.645717\n",
      "42 -1.270629  0.021406\n",
      "43  1.775308  1.085125\n",
      "44 -2.141099 -0.665919\n",
      "45  1.180433  2.087918\n",
      "46 -0.871879 -0.652911\n",
      "47  2.093810 -1.912682\n",
      "48  0.772494 -0.292618\n",
      "49  0.339142 -0.634527\n"
     ]
    }
   ],
   "source": [
    "dfTraining = pd.DataFrame(data=X, columns=[\"column1\", \"column2\"])\n",
    "print(dfTraining)"
   ]
  },
  {
   "cell_type": "code",
   "execution_count": 7,
   "metadata": {},
   "outputs": [
    {
     "name": "stdout",
     "output_type": "stream",
     "text": [
      "     column1   column2\n",
      "0   0.462240  0.939178\n",
      "1   1.382284  0.896332\n",
      "2   0.717828 -2.643903\n",
      "3   1.456671 -1.214020\n",
      "4   1.293062 -0.272784\n",
      "5  -0.799077 -0.485662\n",
      "6  -0.819025 -0.397538\n",
      "7   0.904438 -0.016525\n",
      "8   2.713846  1.276598\n",
      "9   1.546397  0.527064\n",
      "10  2.289184 -1.257085\n",
      "11  1.472405 -0.410677\n",
      "12  1.024407 -1.527519\n",
      "13  0.550012  0.195980\n",
      "14  0.641436 -0.001903\n",
      "15  1.235531  0.954356\n",
      "16  0.915844  0.878044\n",
      "17  1.402689 -1.019192\n",
      "18  1.002635  0.862657\n",
      "19 -1.210489 -1.104984\n",
      "20 -0.482394  1.288862\n",
      "21  1.669737 -0.012088\n",
      "22  0.882422  0.553291\n",
      "23 -1.274368  0.023530\n",
      "24 -1.532204  0.692295\n",
      "25  0.861537  0.397423\n",
      "26  0.645570 -0.879766\n",
      "27 -1.199583  1.188065\n",
      "28 -1.049286 -0.431173\n",
      "29  1.301813 -0.746635\n"
     ]
    }
   ],
   "source": [
    "dFTesting=pd.DataFrame(data=X1, columns=[\"column1\", \"column2\"])\n",
    "print(dFTesting)"
   ]
  },
  {
   "cell_type": "code",
   "execution_count": null,
   "metadata": {},
   "outputs": [],
   "source": []
  }
 ],
 "metadata": {
  "kernelspec": {
   "display_name": "Python 3",
   "language": "python",
   "name": "python3"
  },
  "language_info": {
   "codemirror_mode": {
    "name": "ipython",
    "version": 3
   },
   "file_extension": ".py",
   "mimetype": "text/x-python",
   "name": "python",
   "nbconvert_exporter": "python",
   "pygments_lexer": "ipython3",
   "version": "3.7.6"
  }
 },
 "nbformat": 4,
 "nbformat_minor": 4
}
