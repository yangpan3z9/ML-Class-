{
 "cells": [
  {
   "cell_type": "code",
   "execution_count": 1,
   "metadata": {},
   "outputs": [],
   "source": [
    "import matplotlib.pyplot as plt\n",
    "import numpy as np\n",
    "from sklearn.datasets import make_blobs\n"
   ]
  },
  {
   "cell_type": "code",
   "execution_count": 2,
   "metadata": {},
   "outputs": [],
   "source": [
    "n_samples = 50  # 50 Training points for both cases.\n",
    "colours = ('green', 'red')  # colors for case 1 and 2"
   ]
  },
  {
   "cell_type": "code",
   "execution_count": 3,
   "metadata": {},
   "outputs": [
    {
     "data": {
      "image/png": "[encoded data removed]",
      "text/plain": [
       "<Figure size 432x288 with 1 Axes>"
      ]
     },
     "metadata": {
      "needs_background": "light"
     },
     "output_type": "display_data"
    }
   ],
   "source": [
    "## CASE 1 TRAINING POINTS ARE LINEARLY SEPARABLE.\n",
    "c1_w_dummy = np.zeros((50,3)) #Needed to format after getting the inputs\n",
    "\n",
    "c1_samples, labels = make_blobs(n_samples = n_samples, \n",
    "                             centers = ([ 4.25, 10.9 ], [1, 7]), \n",
    "                             random_state = 0)\n",
    "\n",
    "fig, ax = plt.subplots()\n",
    "\n",
    "for i in range(2):\n",
    "    ax.scatter(c1_samples[labels == i][:, 0], c1_samples[labels == i][:, 1], \n",
    "               c = colours[i], s = 40, label = str(i))\n",
    "    \n",
    "i = 0\n",
    "for point in c1_samples:\n",
    "    c1_w_dummy[i] = np.insert(point, 0, 1, axis=0)\n",
    "    i += 1"
   ]
  },
  {
   "cell_type": "code",
   "execution_count": 4,
   "metadata": {},
   "outputs": [
    {
     "data": {
      "image/png": "[encoded data removed]",
      "text/plain": [
       "<Figure size 432x288 with 1 Axes>"
      ]
     },
     "metadata": {
      "needs_background": "light"
     },
     "output_type": "display_data"
    }
   ],
   "source": [
    "## CASE 2 TRAINING POINTS ARE (NOT) LINEARLY SEPARABLE.\n",
    "\n",
    "c2_w_dummy = np.zeros((50,3)) #Needed to format after getting the inputs\n",
    "\n",
    "\n",
    "c2_samples, c2_labels = make_blobs(n_samples = n_samples, \n",
    "                             centers = ([2.25, 3.7], [2, 2]),  # We just need to move these points closer together.\n",
    "                             random_state = 0)\n",
    "\n",
    "fig, ax = plt.subplots()\n",
    "\n",
    "for i in range(2):\n",
    "    ax.scatter(c2_samples[c2_labels == i][:, 0], c2_samples[c2_labels == i][:, 1], \n",
    "               c = colours[i], s = 40, label = str(i))\n",
    "i = 0\n",
    "for point in c1_samples:\n",
    "    c2_w_dummy[i] = np.insert(point, 0, 1, axis=0)\n",
    "    i += 1\n",
    "    \n",
    "    # plt.show()"
   ]
  },
  {
   "cell_type": "code",
   "execution_count": 12,
   "metadata": {},
   "outputs": [],
   "source": [
    "%run perceptron.ipynb     #Running the perceptron notebook.\n",
    "perceptron = Perceptron() #Creating an instance of the perceptron."
   ]
  },
  {
   "cell_type": "code",
   "execution_count": 14,
   "metadata": {},
   "outputs": [
    {
     "name": "stdout",
     "output_type": "stream",
     "text": [
      "Initial random weight vector:  [1.         0.22931963 0.85399498]\n",
      "Weight vector is:  [ 0.93       -0.14818667 -0.04904694]\n",
      "First solution found!\n",
      "0.7327663933929742 is the lkasdjflksdakljf\n"
     ]
    },
    {
     "data": {
      "image/png": "[encoded data removed]",
      "text/plain": [
       "<Figure size 432x288 with 1 Axes>"
      ]
     },
     "metadata": {
      "needs_background": "light"
     },
     "output_type": "display_data"
    }
   ],
   "source": [
    "fig, ax = plt.subplots()\n",
    "\n",
    "for i in range(2):\n",
    "    ax.scatter(c1_samples[labels == i][:, 0], c1_samples[labels == i][:, 1], \n",
    "               c = colours[i], s = 40, label = str(i))\n",
    "    \n",
    "weight_vector = perceptron.pla(c1_w_dummy, labels)\n",
    "print(np.sum(weight_vector), \"is the lkasdjflksdakljf\")\n",
    "\n",
    "f = lambda x: np.sum(weight_vector)*x # I\"m 99% sure that this is the incorrect way to find the line, if you (Yang) know how to do this please fix it.\n",
    "\n",
    "ax.plot(f(weight_vector),lw=2.5, c=\"k\",label=\"line found by perceptron?\") #I can't for the life of me figure out how to graph this line, do you have any ideas?\n",
    "\n",
    "i = 0\n",
    "for point in c1_samples:\n",
    "    c1_w_dummy[i] = np.insert(point, 0, 1, axis=0)\n",
    "    i += 1\n"
   ]
  },
  {
   "cell_type": "code",
   "execution_count": null,
   "metadata": {},
   "outputs": [],
   "source": [
    "#TODO: Define test points here, and note if linearly separable."
   ]
  },
  {
   "cell_type": "code",
   "execution_count": null,
   "metadata": {},
   "outputs": [],
   "source": [
    "#TODO: "
   ]
  },
  {
   "cell_type": "code",
   "execution_count": null,
   "metadata": {},
   "outputs": [],
   "source": []
  }
 ],
 "metadata": {
  "kernelspec": {
   "display_name": "Python 3",
   "language": "python",
   "name": "python3"
  },
  "language_info": {
   "codemirror_mode": {
    "name": "ipython",
    "version": 3
   },
   "file_extension": ".py",
   "mimetype": "text/x-python",
   "name": "python",
   "nbconvert_exporter": "python",
   "pygments_lexer": "ipython3",
   "version": "3.8.3"
  }
 },
 "nbformat": 4,
 "nbformat_minor": 4
}
