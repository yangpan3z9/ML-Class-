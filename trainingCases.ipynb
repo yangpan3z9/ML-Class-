{
 "cells": [
  {
   "cell_type": "code",
   "execution_count": 1,
   "metadata": {},
   "outputs": [],
   "source": [
    "import matplotlib.pyplot as plt\n",
    "import numpy as np\n",
    "from sklearn.datasets import make_blobs\n"
   ]
  },
  {
   "cell_type": "code",
   "execution_count": 2,
   "metadata": {},
   "outputs": [],
   "source": [
    "\n",
    "class Perceptron(object):\n",
    "\n",
    "    def __init__(self, no_of_inputs, passNum=100, learning_rate=0.01):\n",
    "        self.passNum = passNum\n",
    "        self.learning_rate = learning_rate\n",
    "        self.weights = np.zeros(no_of_inputs + 1)\n",
    "\n",
    "    def train(self, training_inputs, labels):\n",
    "        for _ in range(self.passNum):\n",
    "            #zip function transposes the rows to columns, to make new rows\n",
    "            #ex: A= [a,b,c], B=[2,4,1], zip (A, B) = [(a, 2), (b, 4), (c,1)]\n",
    "            \n",
    "            \n",
    "            \n",
    "            \n",
    "            for inputs, label in zip(training_inputs, labels): \n",
    "                prediction = self.predict(inputs)\n",
    "                self.weights[1:] += self.learning_rate * (label - prediction) * inputs\n",
    "                self.weights[0] += self.learning_rate * (label - prediction)\n",
    "\n",
    "    def predict(self, inputs):\n",
    "        summation = np.dot(inputs, self.weights[1:]) + self.weights[0]\n",
    "        if summation > 0:\n",
    "          activation = 1\n",
    "        else:\n",
    "          activation = 0            \n",
    "        return activation\n",
    "\n"
   ]
  },
  {
   "cell_type": "code",
   "execution_count": 3,
   "metadata": {},
   "outputs": [],
   "source": [
    "n_samples = 50  # 50 Training points for both cases.\n",
    "colours = ('green', 'red')  # colors for case 1 and 2"
   ]
  },
  {
   "cell_type": "code",
   "execution_count": 4,
   "metadata": {},
   "outputs": [],
   "source": [
    "test_samples = 50\n"
   ]
  },
  {
   "cell_type": "code",
   "execution_count": 5,
   "metadata": {},
   "outputs": [
    {
     "data": {
      "image/png": "[encoded data removed]",
      "text/plain": [
       "<Figure size 432x288 with 1 Axes>"
      ]
     },
     "metadata": {
      "needs_background": "light"
     },
     "output_type": "display_data"
    }
   ],
   "source": [
    "## CASE 1 TRAINING POINTS ARE LINEARLY SEPARABLE.\n",
    "c1_w_dummy = np.zeros((50,3)) #Needed to format after getting the inputs\n",
    "\n",
    "c1_samples, labels = make_blobs(n_samples = n_samples, \n",
    "                             centers = ([ 4.25, 10.9 ], [1, 7]), \n",
    "                             random_state = 0)\n",
    "\n",
    "fig, ax = plt.subplots()\n",
    "\n",
    "for i in range(2):\n",
    "    ax.scatter(c1_samples[labels == i][:, 0], c1_samples[labels == i][:, 1], \n",
    "               c = colours[i], s = 40, label = str(i))\n",
    "    \n",
    "i = 0\n",
    "for point in c1_samples:\n",
    "    c1_w_dummy[i] = np.insert(point, 0, 1, axis=0)\n",
    "    i += 1"
   ]
  },
  {
   "cell_type": "code",
   "execution_count": 10,
   "metadata": {},
   "outputs": [
    {
     "data": {
      "text/plain": [
       "array([[ 1.20827498,  7.97663904],\n",
       "       [ 5.78277921, 12.36935877],\n",
       "       [ 1.01050002,  8.78587049],\n",
       "       [ 0.32753955,  6.64044684],\n",
       "       [ 0.48919486,  5.81936782],\n",
       "       [ 4.14678115, 11.3105985 ],\n",
       "       [ 1.72909056,  7.12898291],\n",
       "       [ 3.36221425,  8.91920353],\n",
       "       [ 2.17877957,  6.82007516],\n",
       "       [ 4.5630677 , 10.04590426],\n",
       "       [ 0.10453344,  7.3869025 ],\n",
       "       [ 3.90208785, 11.05634897],\n",
       "       [ 6.11755799,  9.92272212],\n",
       "       [ 3.86267318, 10.59769725],\n",
       "       [ 0.97181777,  7.42833187],\n",
       "       [-0.07075262,  8.05445173],\n",
       "       [ 2.99720464, 11.67749036],\n",
       "       [ 3.20144703,  9.47998206],\n",
       "       [ 1.06651722,  7.3024719 ],\n",
       "       [ 5.74407907, 10.69484174],\n",
       "       [-0.63019835,  7.46278226],\n",
       "       [ 6.01405235, 11.30015721],\n",
       "       [ 0.12920285,  6.42115034],\n",
       "       [ 4.39404357, 12.35427351],\n",
       "       [ 3.74034782, 10.4619257 ],\n",
       "       [ 1.40234164,  6.31518991],\n",
       "       [ 1.3563664 ,  7.70657317],\n",
       "       [ 6.51975462,  9.44563433],\n",
       "       [ 1.69701018, 11.5536186 ],\n",
       "       [ 1.12691209,  7.40198936],\n",
       "       [ 0.68844747,  7.05616534],\n",
       "       [-0.16514984,  7.90082649],\n",
       "       [ 5.20008842, 10.74864279],\n",
       "       [ 0.09270164,  7.0519454 ],\n",
       "       [ 2.48825219,  8.89588918],\n",
       "       [ 0.59682305,  8.22244507],\n",
       "       [ 5.22873798, 13.1408932 ],\n",
       "       [ 0.36567791,  6.63725883],\n",
       "       [ 5.1144362 , 10.15783498],\n",
       "       [ 1.46566244,  5.46375631],\n",
       "       [ 5.48029068, 12.10237985],\n",
       "       [ 4.40494743, 11.27816252],\n",
       "       [ 2.63610215, 10.68725972],\n",
       "       [ 4.69386323, 11.23367433],\n",
       "       [ 4.29575852, 10.71281615],\n",
       "       [ 0.18685372,  5.2737174 ],\n",
       "       [ 2.54372981, 12.8507754 ],\n",
       "       [ 5.01103773, 11.02167502],\n",
       "       [ 2.13940068,  5.76517418],\n",
       "       [ 1.17742614,  6.59821906]])"
      ]
     },
     "execution_count": 10,
     "metadata": {},
     "output_type": "execute_result"
    }
   ],
   "source": [
    "c1_samples"
   ]
  },
  {
   "cell_type": "code",
   "execution_count": 7,
   "metadata": {},
   "outputs": [
    {
     "data": {
      "image/png": "[encoded data removed]",
      "text/plain": [
       "<Figure size 432x288 with 1 Axes>"
      ]
     },
     "metadata": {
      "needs_background": "light"
     },
     "output_type": "display_data"
    }
   ],
   "source": [
    "## CASE 2 TRAINING POINTS ARE (NOT) LINEARLY SEPARABLE.\n",
    "\n",
    "c2_w_dummy = np.zeros((50,3)) #Needed to format after getting the inputs\n",
    "\n",
    "\n",
    "c2_samples, c2_labels = make_blobs(n_samples = n_samples, \n",
    "                             centers = ([2.25, 3.7], [2, 2]),  # We just need to move these points closer together.\n",
    "                             random_state = 0)\n",
    "\n",
    "fig, ax = plt.subplots()\n",
    "\n",
    "for i in range(2):\n",
    "    ax.scatter(c2_samples[c2_labels == i][:, 0], c2_samples[c2_labels == i][:, 1], \n",
    "               c = colours[i], s = 40, label = str(i))\n",
    "i = 0\n",
    "for point in c1_samples:\n",
    "    c2_w_dummy[i] = np.insert(point, 0, 1, axis=0)\n",
    "    i += 1\n",
    "    \n",
    "    # plt.show()"
   ]
  },
  {
   "cell_type": "code",
   "execution_count": 8,
   "metadata": {},
   "outputs": [],
   "source": [
    "#%run perceptron.ipynb     #Running the perceptron notebook.\n",
    "perceptron = Perceptron(2) #Creating an instance of the perceptron."
   ]
  },
  {
   "cell_type": "code",
   "execution_count": 11,
   "metadata": {},
   "outputs": [],
   "source": [
    "perceptron.train(c1_samples, labels)"
   ]
  },
  {
   "cell_type": "code",
   "execution_count": 23,
   "metadata": {},
   "outputs": [],
   "source": [
    "inputs3 = np.array([1, 7])"
   ]
  },
  {
   "cell_type": "code",
   "execution_count": 24,
   "metadata": {},
   "outputs": [
    {
     "data": {
      "text/plain": [
       "1"
      ]
     },
     "execution_count": 24,
     "metadata": {},
     "output_type": "execute_result"
    }
   ],
   "source": [
    "perceptron.predict(inputs3)"
   ]
  },
  {
   "cell_type": "code",
   "execution_count": 26,
   "metadata": {},
   "outputs": [
    {
     "name": "stdout",
     "output_type": "stream",
     "text": [
      "None is the lkasdjflksdakljf\n"
     ]
    },
    {
     "data": {
      "image/png": "[encoded data removed]",
      "text/plain": [
       "<Figure size 432x288 with 1 Axes>"
      ]
     },
     "metadata": {
      "needs_background": "light"
     },
     "output_type": "display_data"
    }
   ],
   "source": [
    "fig, ax = plt.subplots()\n",
    "\n",
    "for i in range(2):\n",
    "    ax.scatter(c1_samples[labels == i][:, 0], c1_samples[labels == i][:, 1], \n",
    "               c = colours[i], s = 40, label = str(i))\n",
    "    \n",
    "weight_vector = perceptron.train(c1_samples, labels)\n",
    "predict_vector=perceptron.predict(inputs3)\n",
    "print(np.sum(weight_vector), \"is the lkasdjflksdakljf\")\n",
    "predict_vector\n",
    "#f = lambda x: np.sum(weight_vector)*x # I\"m 99% sure that this is the incorrect way to find the line, if you (Yang) know how to do this please fix it.\n",
    "\n",
    "#ax.plot(f(weight_vector),lw=2.5, c=\"k\",label=\"line found by perceptron?\") #I can't for the life of me figure out how to graph this line, do you have any ideas?\n",
    "\n",
    "i = 0\n",
    "for point in c1_samples:\n",
    "    c1_w_dummy[i] = np.insert(point, 0, 1, axis=0)\n",
    "    i += 1\n"
   ]
  },
  {
   "cell_type": "code",
   "execution_count": 27,
   "metadata": {},
   "outputs": [
    {
     "name": "stdout",
     "output_type": "stream",
     "text": [
      "1\n"
     ]
    }
   ],
   "source": [
    "print(predict_vector)"
   ]
  },
  {
   "cell_type": "markdown",
   "metadata": {},
   "source": [
    "# Linearly seperable testing data\n",
    "\n"
   ]
  },
  {
   "cell_type": "code",
   "execution_count": 28,
   "metadata": {},
   "outputs": [
    {
     "ename": "IndexError",
     "evalue": "index 30 is out of bounds for axis 0 with size 30",
     "output_type": "error",
     "traceback": [
      "\u001b[0;31m---------------------------------------------------------------------------\u001b[0m",
      "\u001b[0;31mIndexError\u001b[0m                                Traceback (most recent call last)",
      "\u001b[0;32m<ipython-input-28-394c98f819d0>\u001b[0m in \u001b[0;36m<module>\u001b[0;34m\u001b[0m\n\u001b[1;32m     13\u001b[0m \u001b[0mi\u001b[0m \u001b[0;34m=\u001b[0m \u001b[0;36m0\u001b[0m\u001b[0;34m\u001b[0m\u001b[0;34m\u001b[0m\u001b[0m\n\u001b[1;32m     14\u001b[0m \u001b[0;32mfor\u001b[0m \u001b[0mpoint\u001b[0m \u001b[0;32min\u001b[0m \u001b[0mc3_samples\u001b[0m\u001b[0;34m:\u001b[0m\u001b[0;34m\u001b[0m\u001b[0;34m\u001b[0m\u001b[0m\n\u001b[0;32m---> 15\u001b[0;31m     \u001b[0mc3_w_dummy\u001b[0m\u001b[0;34m[\u001b[0m\u001b[0mi\u001b[0m\u001b[0;34m]\u001b[0m \u001b[0;34m=\u001b[0m \u001b[0mnp\u001b[0m\u001b[0;34m.\u001b[0m\u001b[0minsert\u001b[0m\u001b[0;34m(\u001b[0m\u001b[0mpoint\u001b[0m\u001b[0;34m,\u001b[0m \u001b[0;36m0\u001b[0m\u001b[0;34m,\u001b[0m \u001b[0;36m1\u001b[0m\u001b[0;34m,\u001b[0m \u001b[0maxis\u001b[0m\u001b[0;34m=\u001b[0m\u001b[0;36m0\u001b[0m\u001b[0;34m)\u001b[0m\u001b[0;34m\u001b[0m\u001b[0;34m\u001b[0m\u001b[0m\n\u001b[0m\u001b[1;32m     16\u001b[0m     \u001b[0mi\u001b[0m \u001b[0;34m+=\u001b[0m \u001b[0;36m1\u001b[0m\u001b[0;34m\u001b[0m\u001b[0;34m\u001b[0m\u001b[0m\n",
      "\u001b[0;31mIndexError\u001b[0m: index 30 is out of bounds for axis 0 with size 30"
     ]
    },
    {
     "data": {
      "image/png": "[encoded data removed]",
      "text/plain": [
       "<Figure size 432x288 with 1 Axes>"
      ]
     },
     "metadata": {
      "needs_background": "light"
     },
     "output_type": "display_data"
    }
   ],
   "source": [
    "\n",
    "c3_w_dummy = np.zeros((30,3)) #Needed to format after getting the inputs\n",
    "\n",
    "c3_samples, labels = make_blobs(n_samples = test_samples, \n",
    "                             centers = ([ 4.25, 10.9 ], [1, 7]), \n",
    "                             random_state = 0)\n",
    "\n",
    "fig, ax = plt.subplots()\n",
    "\n",
    "for i in range(2):\n",
    "    ax.scatter(c3_samples[labels == i][:, 0], c3_samples[labels == i][:, 1], \n",
    "               c = colours[i], s = 40, label = str(i))\n",
    "    \n",
    "i = 0\n",
    "for point in c3_samples:\n",
    "    c3_w_dummy[i] = np.insert(point, 0, 1, axis=0)\n",
    "    i += 1"
   ]
  },
  {
   "cell_type": "code",
   "execution_count": null,
   "metadata": {},
   "outputs": [],
   "source": []
  },
  {
   "cell_type": "code",
   "execution_count": null,
   "metadata": {},
   "outputs": [],
   "source": []
  }
 ],
 "metadata": {
  "kernelspec": {
   "display_name": "Python 3",
   "language": "python",
   "name": "python3"
  },
  "language_info": {
   "codemirror_mode": {
    "name": "ipython",
    "version": 3
   },
   "file_extension": ".py",
   "mimetype": "text/x-python",
   "name": "python",
   "nbconvert_exporter": "python",
   "pygments_lexer": "ipython3",
   "version": "3.7.6"
  }
 },
 "nbformat": 4,
 "nbformat_minor": 4
}
