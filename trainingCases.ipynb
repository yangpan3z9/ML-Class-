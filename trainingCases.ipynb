{
 "cells": [
  {
   "cell_type": "code",
   "execution_count": 1,
   "metadata": {},
   "outputs": [],
   "source": [
    "import matplotlib.pyplot as plt\n",
    "import numpy as np\n",
    "import random\n",
    "from sklearn.datasets import make_blobs\n"
   ]
  },
  {
   "cell_type": "code",
   "execution_count": 2,
   "metadata": {},
   "outputs": [],
   "source": [
    "n_samples = 50  # 50 Training points for both cases.\n",
    "n_test_points = 30\n",
    "colours = ('green', 'red')  # colors for case 1 and 2"
   ]
  },
  {
   "cell_type": "code",
   "execution_count": 3,
   "metadata": {},
   "outputs": [
    {
     "data": {
      "image/png": "[encoded data removed]",
      "text/plain": [
       "<Figure size 432x288 with 1 Axes>"
      ]
     },
     "metadata": {
      "needs_background": "light"
     },
     "output_type": "display_data"
    }
   ],
   "source": [
    "## CASE 1 TRAINING POINTS ARE LINEARLY SEPARABLE.\n",
    "c1_w_dummy = np.zeros((50,3)) #Needed to format after getting the inputs\n",
    "\n",
    "c1_samples, labels = make_blobs(n_samples = n_samples, \n",
    "                             centers = ([ 1.5, 0.9 ], [6, -2] ), \n",
    "                             random_state = 0)\n",
    "\n",
    "fig, ax = plt.subplots()\n",
    "\n",
    "for i in range(2):\n",
    "    ax.scatter(c1_samples[labels == i][:, 0], c1_samples[labels == i][:, 1], \n",
    "               c = colours[i], s = 40, label = str(i))\n",
    "    \n",
    "i = 0\n",
    "for point in c1_samples:\n",
    "    c1_w_dummy[i] = np.insert(point, 0, 1, axis=0)\n",
    "    i += 1"
   ]
  },
  {
   "cell_type": "code",
   "execution_count": 4,
   "metadata": {},
   "outputs": [
    {
     "data": {
      "image/png": "[encoded data removed]",
      "text/plain": [
       "<Figure size 432x288 with 1 Axes>"
      ]
     },
     "metadata": {
      "needs_background": "light"
     },
     "output_type": "display_data"
    }
   ],
   "source": [
    "## CASE 2 TRAINING POINTS ARE (NOT) LINEARLY SEPARABLE.\n",
    "\n",
    "c2_w_dummy = np.zeros((50,3)) #Needed to format after getting the inputs\n",
    "\n",
    "\n",
    "c2_samples, c2_labels = make_blobs(n_samples = n_samples, \n",
    "                             centers = ([2.25, 3.7], [2, 2]),  # We just need to move these points closer together.\n",
    "                             random_state = 0)\n",
    "\n",
    "fig, ax = plt.subplots()\n",
    "\n",
    "for i in range(2):\n",
    "    ax.scatter(c2_samples[c2_labels == i][:, 0], c2_samples[c2_labels == i][:, 1], \n",
    "               c = colours[i], s = 40, label = str(i))\n",
    "i = 0\n",
    "for point in c1_samples:\n",
    "    c2_w_dummy[i] = np.insert(point, 0, 1, axis=0)\n",
    "    i += 1\n",
    "    \n",
    "    # plt.show()"
   ]
  },
  {
   "cell_type": "code",
   "execution_count": 5,
   "metadata": {},
   "outputs": [],
   "source": [
    "class Perceptron(object):\n",
    "\n",
    "    def __init__(self, no_of_inputs, passNum=100, learning_rate=0.0001):\n",
    "        self.passNum = passNum\n",
    "        self.learning_rate = learning_rate\n",
    "        self.no_of_inputs = no_of_inputs\n",
    "        self.weights = None\n",
    "        self.updated = False\n",
    "        self.num_iterations = 0\n",
    "        self.n_updates = 0  #t\n",
    "\n",
    "    def train(self, training_inputs, labels):\n",
    "        self.weights = np.zeros(self.no_of_inputs + 1)\n",
    "        self.weights[0] = 1\n",
    "        \n",
    "        for _ in range(self.passNum):\n",
    "            \n",
    "            #zip function transposes the rows to columns, to make new rows\n",
    "            #ex: A= [a,b,c], B=[2,4,1], zip (A, B) = [(a, 2), (b, 4), (c,1)]\n",
    "            \n",
    "            for inputs, label in zip(training_inputs, labels): \n",
    "                prediction = self.predict(inputs)\n",
    "                self.weights[1:] += self.learning_rate * (label - prediction) * inputs\n",
    "                self.weights[0] += self.learning_rate * (label - prediction)\n",
    "                \n",
    "                \n",
    "        return self.weights\n",
    "\n",
    "    def predict(self, inputs):\n",
    "        self.num_iterations += 1\n",
    "        summation = np.dot(inputs, self.weights[1:]) + self.weights[0]\n",
    "        if summation > 0:\n",
    "            activation = 1\n",
    "        else:\n",
    "            self.n_updates += 1  #t\n",
    "            activation = 0            \n",
    "        return activation"
   ]
  },
  {
   "cell_type": "code",
   "execution_count": 6,
   "metadata": {},
   "outputs": [
    {
     "name": "stdout",
     "output_type": "stream",
     "text": [
      "Creating the instance of our Perceptron.\n"
     ]
    }
   ],
   "source": [
    "print(\"Creating the instance of our Perceptron.\")\n",
    "ls_perceptron = Perceptron(2) #Perceptron trained on the linearly separable case.\n",
    "non_ls_perceptron = Perceptron(2) #Perceptron trained on the non-linearly separable case."
   ]
  },
  {
   "cell_type": "code",
   "execution_count": 7,
   "metadata": {},
   "outputs": [
    {
     "name": "stdout",
     "output_type": "stream",
     "text": [
      "Training the Perceptron on our first training set (linearly separable case) and the second (non-linearly separable case)\n",
      "\n",
      "Our weight vector for the linearly separable case:  [ 0.7959     -0.17628641 -0.23979283]  it took  459  updates, and  5000  iterations.\n",
      "Our weight vector for the non-linearly separable case:  [ 0.9304     -0.11445279 -0.2244399 ]  it took  1804  updates, and  5000  iterations.\n"
     ]
    }
   ],
   "source": [
    "# Training for both models. One for linearly separable and another for non-linearly separable.\n",
    "print(\"Training the Perceptron on our first training set (linearly separable case) and the second (non-linearly separable case)\\n\")\n",
    "############ Linearly separable ###################\n",
    "\n",
    "weight_vector = ls_perceptron.train(c1_samples, labels)\n",
    "updates1 = ls_perceptron.n_updates\n",
    "iter1 = ls_perceptron.num_iterations\n",
    "print(\"Our weight vector for the linearly separable case: \", weight_vector, \" it took \", updates1, \" updates, and \", iter1, \" iterations.\")\n",
    "\n",
    "############ NON-Linearly separable ###################\n",
    "\n",
    "weight_vector2 = non_ls_perceptron.train(c2_samples, c2_labels)\n",
    "updates2 = non_ls_perceptron.n_updates\n",
    "iter2 = non_ls_perceptron.num_iterations\n",
    "print(\"Our weight vector for the non-linearly separable case: \", weight_vector2, \" it took \", updates2, \" updates, and \", iter2, \" iterations.\")"
   ]
  },
  {
   "cell_type": "code",
   "execution_count": 8,
   "metadata": {},
   "outputs": [
    {
     "data": {
      "image/png": "[encoded data removed]",
      "text/plain": [
       "<Figure size 432x288 with 1 Axes>"
      ]
     },
     "metadata": {
      "needs_background": "light"
     },
     "output_type": "display_data"
    },
    {
     "name": "stdout",
     "output_type": "stream",
     "text": [
      "Equation of line found by Perceptron: y =  -0.7351612860961437 *x + 3.3191150697519505\n"
     ]
    },
    {
     "data": {
      "image/png": "[encoded data removed]",
      "text/plain": [
       "<Figure size 432x288 with 1 Axes>"
      ]
     },
     "metadata": {
      "needs_background": "light"
     },
     "output_type": "display_data"
    },
    {
     "name": "stdout",
     "output_type": "stream",
     "text": [
      "Equation of line found by Perceptron: y =  -0.5099485182345374 *x + 4.145430465646835\n"
     ]
    }
   ],
   "source": [
    "\n",
    "########### OUR INTERCEPTS WILL LOOK LIKE THIS #############    \n",
    "# # x-intercept = (0, -b / w2)\n",
    "# # y-intercept = (-b / w1, 0)\n",
    "# x_int = [0, -weight_vector[0] / weight_vector[2]]\n",
    "# y_int = [-weight_vector[0] / weight_vector[1], 0]\n",
    "\n",
    "\n",
    "########### PLOTTING PREVIOUS TRAINING POINTS AND GRAPHING THE LINE FOUND BY PERCEPTRON ###########\n",
    "###########                        FOR THE LINEARLY SEPARABLE CASE.                     ###########\n",
    "fig, ax = plt.subplots()\n",
    "for i in range(2):\n",
    "    ax.scatter(c1_samples[labels == i][:, 0], c1_samples[labels == i][:, 1], \n",
    "               c = colours[i], s = 20, label = str(i))\n",
    "\n",
    "slope1 = -(weight_vector[0] / weight_vector[2]) / (weight_vector[0] / weight_vector[1])\n",
    "\n",
    "x = np.linspace(-10,15)\n",
    "y = slope1*x + (-weight_vector[0] / weight_vector[2])\n",
    "\n",
    "plt.plot(x, y, '-b', label='linearly separable case')\n",
    "plt.title(\"Graph of Linearly separable case\")\n",
    "plt.show()\n",
    "print(\"Equation of line found by Perceptron: y = \", slope1, \"*x +\" , (-weight_vector[0] / weight_vector[2] ))\n",
    "\n",
    "\n",
    "\n",
    "########### PLOTTING PREVIOUS TRAINING POINTS AND GRAPHING THE LINE FOUND BY PERCEPTRON ###########\n",
    "###########                    FOR THE NON-LINEARLY SEPARABLE CASE.                     ###########\n",
    "fig, ax = plt.subplots()\n",
    "\n",
    "for i in range(2):\n",
    "    ax.scatter(c2_samples[labels == i][:, 0], c2_samples[labels == i][:, 1], \n",
    "               c = colours[i], s = 20, label = str(i))\n",
    "    \n",
    "\n",
    "slope2 = -(weight_vector2[0] / weight_vector2[2]) / (weight_vector2[0] / weight_vector2[1])\n",
    "\n",
    "x = np.linspace(-10,15)\n",
    "y = slope2*x + (-weight_vector2[0] / weight_vector2[2])\n",
    "\n",
    "plt.plot(x, y, '-b', label='linearly separable case')\n",
    "plt.title(\"Graph of non-Linearly separable case\")\n",
    "plt.show()\n",
    "print(\"Equation of line found by Perceptron: y = \", slope2, \"*x +\" , (-weight_vector2[0] / weight_vector2[2] ))"
   ]
  },
  {
   "cell_type": "code",
   "execution_count": 9,
   "metadata": {},
   "outputs": [
    {
     "data": {
      "text/plain": [
       "array([1, 0, 1, 1, 1, 0, 1, 0, 1, 0, 1, 0, 0, 0, 1, 1, 0, 0, 1, 0, 1, 0,\n",
       "       1, 0, 0, 1, 1, 0, 0, 1, 1, 1, 0, 1, 1, 1, 0, 1, 0, 1, 0, 0, 0, 0,\n",
       "       0, 1, 0, 0, 1, 1])"
      ]
     },
     "execution_count": 9,
     "metadata": {},
     "output_type": "execute_result"
    }
   ],
   "source": [
    "labels"
   ]
  },
  {
   "cell_type": "code",
   "execution_count": 10,
   "metadata": {},
   "outputs": [
    {
     "name": "stdout",
     "output_type": "stream",
     "text": [
      "[0, 0, 0, 1, 1, 1, 1, 1, 1, 1, 1, 1, 1, 1, 1, 1, 1, 1, 1, 1, 1, 0, 1, 0, 1, 1, 0, 1, 1, 1, 1, 1, 1, 1, 0, 0, 0, 1, 1, 1, 0, 1, 1, 1, 1, 1, 1, 1, 1, 1]\n"
     ]
    }
   ],
   "source": [
    "perceptron = Perceptron(2)\n",
    "perceptron.train(c1_samples, labels)\n",
    "arrayPred=[]\n",
    "for x in c1_samples:\n",
    "\n",
    "   \n",
    "    labelPred=perceptron.predict(x)\n",
    "    arrayPred.append(labelPred)\n",
    "    \n",
    "print (arrayPred)"
   ]
  },
  {
   "cell_type": "code",
   "execution_count": 11,
   "metadata": {},
   "outputs": [
    {
     "name": "stdout",
     "output_type": "stream",
     "text": [
      "False\n"
     ]
    }
   ],
   "source": [
    "comparison =labels == arrayPred\n",
    "equal_arrays = comparison.all()\n",
    "\n",
    "print(equal_arrays)"
   ]
  },
  {
   "cell_type": "code",
   "execution_count": 12,
   "metadata": {},
   "outputs": [
    {
     "data": {
      "text/plain": [
       "array([1, 0, 1, 1, 1, 0, 1, 0, 1, 0, 1, 0, 0, 0, 1, 1, 0, 0, 1, 0, 1, 0,\n",
       "       1, 0, 0, 1, 1, 0, 0, 1, 1, 1, 0, 1, 1, 1, 0, 1, 0, 1, 0, 0, 0, 0,\n",
       "       0, 1, 0, 0, 1, 1])"
      ]
     },
     "execution_count": 12,
     "metadata": {},
     "output_type": "execute_result"
    }
   ],
   "source": [
    "c2_labels"
   ]
  },
  {
   "cell_type": "code",
   "execution_count": 13,
   "metadata": {},
   "outputs": [
    {
     "name": "stdout",
     "output_type": "stream",
     "text": [
      "[0, 0, 0, 1, 1, 1, 1, 1, 1, 1, 1, 1, 1, 1, 1, 1, 1, 1, 1, 1, 1, 0, 1, 0, 1, 1, 0, 1, 1, 1, 1, 1, 1, 1, 0, 0, 0, 1, 1, 1, 0, 1, 1, 1, 1, 1, 1, 1, 1, 1]\n"
     ]
    }
   ],
   "source": [
    "non_ls_perceptron.train(c2_samples, c2_labels)\n",
    "arrayPredNLS=[]\n",
    "for x in c1_samples:\n",
    "\n",
    "   \n",
    "    labelPred=perceptron.predict(x)\n",
    "    arrayPredNLS.append(labelPred)\n",
    "    \n",
    "print (arrayPredNLS)"
   ]
  },
  {
   "cell_type": "code",
   "execution_count": 14,
   "metadata": {},
   "outputs": [
    {
     "name": "stdout",
     "output_type": "stream",
     "text": [
      "False\n"
     ]
    }
   ],
   "source": [
    "comparison =c2_labels == arrayPredNLS\n",
    "equal_arrays2 = comparison.all()\n",
    "\n",
    "print(equal_arrays2)"
   ]
  },
  {
   "cell_type": "code",
   "execution_count": 15,
   "metadata": {},
   "outputs": [
    {
     "data": {
      "image/png": "[encoded data removed]",
      "text/plain": [
       "<Figure size 432x288 with 1 Axes>"
      ]
     },
     "metadata": {
      "needs_background": "light"
     },
     "output_type": "display_data"
    },
    {
     "data": {
      "image/png": "[encoded data removed]",
      "text/plain": [
       "<Figure size 432x288 with 1 Axes>"
      ]
     },
     "metadata": {
      "needs_background": "light"
     },
     "output_type": "display_data"
    }
   ],
   "source": [
    "lower, upper = -6, 5\n",
    "\n",
    "############ USING LINEARLY SEPARABLE LINE ON TEST POINTS #########################\n",
    "x1 = [random.randrange(start=-5, stop=12) * random.random() for i in range(n_test_points)]\n",
    "y1 = [random.randrange(start=lower, stop = 10) for x in x1]\n",
    "\n",
    "for i in range(n_test_points):\n",
    "    plt.scatter(x1[i], y1[i], c=colours[ls_perceptron.predict([x1[i], y1[i]])])\n",
    "\n",
    "y = slope1*x + (-weight_vector[0] / weight_vector[2])\n",
    "\n",
    "plt.plot(x, y, '-b', label='linearly separable case')\n",
    "\n",
    "plt.title(\"Our test samples using the linearly separable case\")\n",
    "plt.show()\n",
    "\n",
    "############ USING NON-LINEARLY SEPARABLE LINE ON TEST POINTS #########################\n",
    "\n",
    "\n",
    "for i in range(n_test_points):\n",
    "    plt.scatter(x1[i], y1[i], c=colours[non_ls_perceptron.predict([x1[i], y1[i]])])\n",
    "\n",
    "y = slope2*x + (-weight_vector2[0] / weight_vector2[2])\n",
    "\n",
    "plt.plot(x, y, '-b', label='linearly separable case')\n",
    "\n",
    "plt.title(\"Our test samples using the non-linearly separable case\")\n",
    "plt.show()\n",
    "\n"
   ]
  },
  {
   "cell_type": "code",
   "execution_count": null,
   "metadata": {},
   "outputs": [],
   "source": []
  },
  {
   "cell_type": "code",
   "execution_count": null,
   "metadata": {},
   "outputs": [],
   "source": []
  },
  {
   "cell_type": "code",
   "execution_count": null,
   "metadata": {},
   "outputs": [],
   "source": []
  }
 ],
 "metadata": {
  "kernelspec": {
   "display_name": "Python 3",
   "language": "python",
   "name": "python3"
  },
  "language_info": {
   "codemirror_mode": {
    "name": "ipython",
    "version": 3
   },
   "file_extension": ".py",
   "mimetype": "text/x-python",
   "name": "python",
   "nbconvert_exporter": "python",
   "pygments_lexer": "ipython3",
   "version": "3.7.6"
  }
 },
 "nbformat": 4,
 "nbformat_minor": 4
}
